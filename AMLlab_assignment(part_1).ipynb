{
  "nbformat": 4,
  "nbformat_minor": 0,
  "metadata": {
    "colab": {
      "name": "AMLlab-assignment(part 1).ipynb",
      "provenance": [],
      "collapsed_sections": [],
      "authorship_tag": "ABX9TyPNVZqfDZEBHkhcYSCofg1D",
      "include_colab_link": true
    },
    "kernelspec": {
      "name": "python3",
      "display_name": "Python 3"
    },
    "language_info": {
      "name": "python"
    }
  },
  "cells": [
    {
      "cell_type": "markdown",
      "metadata": {
        "id": "view-in-github",
        "colab_type": "text"
      },
      "source": [
        "<a href=\"https://colab.research.google.com/github/fionasylvester/AML-assignments/blob/main/AMLlab_assignment(part_1).ipynb\" target=\"_parent\"><img src=\"https://colab.research.google.com/assets/colab-badge.svg\" alt=\"Open In Colab\"/></a>"
      ]
    },
    {
      "cell_type": "markdown",
      "metadata": {
        "id": "WyTRlDs2dhzT"
      },
      "source": [
        "1) Write a program to prompt the user for hours and rate per hour to compute gross pay.Hour = 35 & Rate = **2.75**"
      ]
    },
    {
      "cell_type": "code",
      "metadata": {
        "colab": {
          "base_uri": "https://localhost:8080/"
        },
        "id": "xR1bMbH9cCvn",
        "outputId": "1384df5b-b024-4b96-816c-289aeea90da3"
      },
      "source": [
        "hours = float(input(\"enter hours:\"))\n",
        "rate = float(input(\"enter rate:\"))\n",
        "\n",
        "pay = hours* rate\n",
        "print(\"total pay:\",pay)"
      ],
      "execution_count": null,
      "outputs": [
        {
          "output_type": "stream",
          "name": "stdout",
          "text": [
            "enter hours35\n",
            "enter rate2.75\n",
            "total pay 96.25\n"
          ]
        }
      ]
    },
    {
      "cell_type": "markdown",
      "metadata": {
        "id": "xx6wkQ6UdqSy"
      },
      "source": [
        "2) Which will never be printed in the following two codes sets?"
      ]
    },
    {
      "cell_type": "code",
      "metadata": {
        "colab": {
          "base_uri": "https://localhost:8080/"
        },
        "id": "L_R-tw8UdvNy",
        "outputId": "60924b58-e063-4981-e2fa-9b64d3f0e7c6"
      },
      "source": [
        "x= 100\n",
        "if x<2:\n",
        "  print(\"below 2\")\n",
        "elif x>=2:\n",
        "  print(\"two or more\")\n",
        "else:\n",
        "  print(\"something else\")\n",
        "#ANS - in this code the else block will not be executed"
      ],
      "execution_count": null,
      "outputs": [
        {
          "output_type": "stream",
          "name": "stdout",
          "text": [
            "two or more\n"
          ]
        }
      ]
    },
    {
      "cell_type": "code",
      "metadata": {
        "colab": {
          "base_uri": "https://localhost:8080/"
        },
        "id": "ePIl4t-CgQHM",
        "outputId": "e0127fbe-1506-47be-9bdb-f1152d88107a"
      },
      "source": [
        "x= 9\n",
        "if x<2:\n",
        "  print(\"below 2\")\n",
        "elif x<20:\n",
        "  print(\"below 20\")\n",
        "elif x<10:\n",
        "  print(\"below 10\")\n",
        "else:\n",
        "  print(\"something else\")\n",
        "\n",
        "#ANS - in this code the elif x<10 block will not be executed"
      ],
      "execution_count": null,
      "outputs": [
        {
          "output_type": "stream",
          "name": "stdout",
          "text": [
            "below 20\n"
          ]
        }
      ]
    },
    {
      "cell_type": "markdown",
      "metadata": {
        "id": "QFFnhZyseiCl"
      },
      "source": [
        "3)Rewrite the program-1using try and except to prompt the user for hours and rate per hour to compute gross pay.(if non-numeric inputsentered, it should except).Hour = 35 & Rate = 2.75."
      ]
    },
    {
      "cell_type": "code",
      "metadata": {
        "colab": {
          "base_uri": "https://localhost:8080/"
        },
        "id": "7DqmABFFethL",
        "outputId": "abc6bc5a-4651-4c6c-8232-55f558125d00"
      },
      "source": [
        "try:\n",
        "  hours = int(input(\"enter hours:\"))\n",
        "  rate = float(input(\"enter rate:\"))\n",
        "  pay = hours* rate\n",
        "  print(\"total pay:\",pay)\n",
        "except:\n",
        "  print(\"it is non numeric value\")\n"
      ],
      "execution_count": null,
      "outputs": [
        {
          "output_type": "stream",
          "name": "stdout",
          "text": [
            "enter hours:55\n",
            "enter rate:2.75\n",
            "total pay: 151.25\n"
          ]
        }
      ]
    },
    {
      "cell_type": "markdown",
      "metadata": {
        "id": "_d6t7EV7fcUh"
      },
      "source": [
        "4)Rewrite the program-1with time-and-a half for overtime and create a function called paycomp which takes two parameters (hoursand rate per hour).Hours = 45 and rate = 10."
      ]
    },
    {
      "cell_type": "code",
      "metadata": {
        "colab": {
          "base_uri": "https://localhost:8080/"
        },
        "id": "2guQm_iAhAKI",
        "outputId": "14029d06-5a19-4763-df2a-75428641c732"
      },
      "source": [
        "#basic input hours = 45 and input rate = 10\n",
        "def paycomp(hours, rate):\n",
        "  pay = hours* rate\n",
        "  if hours> 45:                      # considering the basic working hours as 45 and anything above 45 hours is overtime\n",
        "    pay1= (hours-45)*(1.5*rate) + pay\n",
        "    print(\"total pay is: \",pay1)\n",
        "  else:\n",
        "    print(\"total pay is\", pay)\n",
        "\n",
        "paycomp(55,10)"
      ],
      "execution_count": null,
      "outputs": [
        {
          "output_type": "stream",
          "name": "stdout",
          "text": [
            "total pay is:  700.0\n"
          ]
        }
      ]
    },
    {
      "cell_type": "markdown",
      "metadata": {
        "id": "eSI3lwzOilSD"
      },
      "source": [
        "5)What is this code doing?"
      ]
    },
    {
      "cell_type": "code",
      "metadata": {
        "id": "AiR3b1ygikwn"
      },
      "source": [
        "n=5\n",
        "while n>0:\n",
        "  print(\"lather\")\n",
        "  print(\"rinse\")\n",
        "print(\"dry off\")\n",
        "\n",
        "# ANS -> since n value is greater than 5, the while loop will execute infinitely and the print(\"dry off\") will not be execute"
      ],
      "execution_count": null,
      "outputs": []
    },
    {
      "cell_type": "markdown",
      "metadata": {
        "id": "vG34c78Cja8e"
      },
      "source": [
        "6)What is this code doing?"
      ]
    },
    {
      "cell_type": "code",
      "metadata": {
        "colab": {
          "base_uri": "https://localhost:8080/"
        },
        "id": "iiBUt2UkjGPl",
        "outputId": "a212c4a2-3a8b-4bd4-c2ef-3e8949b3cd5c"
      },
      "source": [
        "n=0\n",
        "while n>0:\n",
        "  print(\"lather\")\n",
        "  print(\"rinse\")\n",
        "print(\"dry off\")\n",
        "\n",
        "# ANS - since the value of n is not greater than 0, the loop condition is not met and does not execute"
      ],
      "execution_count": null,
      "outputs": [
        {
          "output_type": "stream",
          "name": "stdout",
          "text": [
            "dry off\n"
          ]
        }
      ]
    },
    {
      "cell_type": "markdown",
      "metadata": {
        "id": "y8HDnmhKjXAK"
      },
      "source": [
        "7.Consider the list of elements [9, 41, 23, 54, 33, 21, 8] use for loop to find\n",
        "a.Largest number\n",
        "b.Smallestnumber\n",
        "c.Number of numbers\n",
        "d.Number of odd number\n",
        "e.Number of even numbers\n",
        "f.Number of prime numbers\n",
        "g.Sum and average of numbers \n",
        "h.Filter the numbers greater than 20\n",
        "i.Filter the numbers lessthan 15\n",
        "j.Search for the number 3"
      ]
    },
    {
      "cell_type": "code",
      "metadata": {
        "colab": {
          "base_uri": "https://localhost:8080/"
        },
        "id": "srFLRrBHjd8a",
        "outputId": "185f4fba-d4da-4e64-9662-063a8e13c0b4"
      },
      "source": [
        "import numpy as np\n",
        "even= 0\n",
        "odd= 0\n",
        "sum= 0\n",
        "b=[]\n",
        "c=[]\n",
        "prime=[]\n",
        "a= [9,41,23,54,33,21,8]\n",
        "for i in a:\n",
        "\n",
        "  maxelement=max(a)\n",
        "  minelement=min(a)\n",
        "  length = len(a)\n",
        "  if i%2== 0:\n",
        "    even+=1\n",
        "  if i%2== 0 :\n",
        "    even+=1\n",
        "  if i%2!=0:\n",
        "    odd+=1\n",
        "  \n",
        "  sum = sum + i\n",
        "  average = sum / len(a)\n",
        "\n",
        "  if i >20 :\n",
        "    b.append(i)\n",
        "  if i < 15 :\n",
        "    c.append(i)\n",
        "\n",
        "  z=0\n",
        "  for j in range(1,i+1):\n",
        "    if i%j==0:\n",
        "      z+=1\n",
        "  if z==2:\n",
        "    prime.append(i)\n",
        "\n",
        "print(\"a) max element in array is :\", maxelement)\n",
        "print(\"b) min element in array is :\", minelement)\n",
        "print(\"c) the number of numbers(length) is :\", length)\n",
        "print(\"d) the number of odd numbers :\", odd)\n",
        "print(\"e) the number of even numbers :\", even)\n",
        "print(\"f) the number of prime numbers :\", prime)\n",
        "print(\"g) sum of the numbers is :\" , sum ,\"the average of the numbers is\" ,average)\n",
        "print(\"h) the numbers greater than 20 :\", b)\n",
        "print(\"i) the numbers lesser than 15  :\",c)\n",
        "if 3 in a:\n",
        "  print(\"j) the number 3 is found\")\n",
        "else:\n",
        "  print(\"j) the number 3 is not found\")\n"
      ],
      "execution_count": 32,
      "outputs": [
        {
          "output_type": "stream",
          "name": "stdout",
          "text": [
            "a) max element in array is : 54\n",
            "b) min element in array is : 8\n",
            "c) the number of numbers(length) is : 7\n",
            "d) the number of odd numbers : 5\n",
            "e) the number of even numbers : 4\n",
            "f) the number of prime numbers : [41, 23]\n",
            "g) sum of the numbers is : 189 the average of the numbers is 27.0\n",
            "h) the numbers greater than 20 : [41, 23, 54, 33, 21]\n",
            "i) the numbers lesser than 15  : [9, 8]\n",
            "j) the number 3 is not found\n"
          ]
        }
      ]
    },
    {
      "cell_type": "markdown",
      "metadata": {
        "id": "Mub_V1dpbYUU"
      },
      "source": [
        "8.Illustrate the use of type operator and type conversion (use your own examples)"
      ]
    },
    {
      "cell_type": "code",
      "metadata": {
        "id": "bJtU29MkdGKs",
        "colab": {
          "base_uri": "https://localhost:8080/"
        },
        "outputId": "28a61e9d-b8e7-4fe8-b859-dba802d60c77"
      },
      "source": [
        "a = int(5)\n",
        "print(type(a))\n",
        "\n",
        "b= str(a)\n",
        "print(type(b))\n",
        "\n",
        "c= float(a)\n",
        "print(type(c))"
      ],
      "execution_count": 19,
      "outputs": [
        {
          "output_type": "stream",
          "name": "stdout",
          "text": [
            "<class 'int'>\n",
            "<class 'str'>\n",
            "<class 'float'>\n"
          ]
        }
      ]
    },
    {
      "cell_type": "markdown",
      "metadata": {
        "id": "PS5cREH3hbXc"
      },
      "source": [
        "9.Illustrate the use of break and continue with your own examples"
      ]
    },
    {
      "cell_type": "code",
      "metadata": {
        "id": "Uvy4qM_7heyM",
        "colab": {
          "base_uri": "https://localhost:8080/"
        },
        "outputId": "4ae55de8-abf0-4de1-e91b-7fefc61f668b"
      },
      "source": [
        "for character in \"Fiona\":\n",
        "    if character == \"i\":\n",
        "        break\n",
        "    print(\"Break statment goes out of the loop completely\",\"\",character)\n",
        "print(\"\")\n",
        "\n",
        "\n",
        "for character in \"Fiona\":\n",
        "    if character == \"i\":\n",
        "        continue\n",
        "    print(character)\n",
        "print(\"Continue statment skips the current loop only\")"
      ],
      "execution_count": 25,
      "outputs": [
        {
          "output_type": "stream",
          "name": "stdout",
          "text": [
            "Break statment goes out of the loop completely  F\n",
            "\n",
            "F\n",
            "o\n",
            "n\n",
            "a\n",
            "Continue statment skips the current loop only\n"
          ]
        }
      ]
    }
  ]
}