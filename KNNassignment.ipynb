{
  "nbformat": 4,
  "nbformat_minor": 0,
  "metadata": {
    "colab": {
      "name": "KNNassignment.ipynb",
      "provenance": [],
      "authorship_tag": "ABX9TyNnHNHVI4HJck6dPyGQTYw0",
      "include_colab_link": true
    },
    "kernelspec": {
      "name": "python3",
      "display_name": "Python 3"
    },
    "language_info": {
      "name": "python"
    }
  },
  "cells": [
    {
      "cell_type": "markdown",
      "metadata": {
        "id": "view-in-github",
        "colab_type": "text"
      },
      "source": [
        "<a href=\"https://colab.research.google.com/github/fionasylvester/AML-assignments/blob/main/KNNassignment.ipynb\" target=\"_parent\"><img src=\"https://colab.research.google.com/assets/colab-badge.svg\" alt=\"Open In Colab\"/></a>"
      ]
    },
    {
      "cell_type": "markdown",
      "metadata": {
        "id": "jsqHOg3qYzHr"
      },
      "source": [
        "# 1) How will you decide K value in KNN algorithm ?"
      ]
    },
    {
      "cell_type": "markdown",
      "metadata": {
        "id": "LAuNZ072Y7Q4"
      },
      "source": [
        "* The value of K in KNN algorithm should ideally be an odd number so that there are no ties in decision in which you should chose a class\n",
        "* The value for K can start from 5,7,11,51 etc but if there is minor change in performance after computation(for example 0.5%) when the values of k are 51 and 5, then it is advisable to choose the lower value of K.\n",
        "* K value can be taken as the square root of n data sets\n",
        "\n",
        "\n",
        "\n",
        "\n"
      ]
    },
    {
      "cell_type": "markdown",
      "metadata": {
        "id": "wLHHTSnGc_by"
      },
      "source": [
        "# 2.How does the efficiency and accuracy of k-NN search change as k increases?"
      ]
    },
    {
      "cell_type": "markdown",
      "metadata": {
        "id": "wfzGKr-AdEGa"
      },
      "source": [
        "-> As the value of K increases the efficiency and accuracy increases to a particular point. After that there is more and more generalizing of the data which leads to overfitting of the model and accuracy and efficiency decreases. the computational cost also increases with increasing K value"
      ]
    },
    {
      "cell_type": "markdown",
      "metadata": {
        "id": "aqAlZxKP5alM"
      },
      "source": [
        "# 3.Why is K-NN a lazy learning algorithm?"
      ]
    },
    {
      "cell_type": "markdown",
      "metadata": {
        "id": "l9GFxhWk5awU"
      },
      "source": [
        "KNN is called Lazy learner because it does not need training data to generate the final model. All the training data can be used directly in the testing stage, hence the training time is less and the testing time is large."
      ]
    },
    {
      "cell_type": "markdown",
      "metadata": {
        "id": "W9p-W0lH5a4n"
      },
      "source": [
        "# 4.Why is KNN a non-parametric algorithm?"
      ]
    },
    {
      "cell_type": "markdown",
      "metadata": {
        "id": "3eD2CggM5a_e"
      },
      "source": [
        "It is called non parametric because there are no predefined parameters set to define the classes"
      ]
    },
    {
      "cell_type": "markdown",
      "metadata": {
        "id": "rp5-tp_k5bEf"
      },
      "source": [
        "# 5.When do we use KNN algorithm?"
      ]
    },
    {
      "cell_type": "markdown",
      "metadata": {
        "id": "BYkHcrT45bIi"
      },
      "source": [
        "*   When the dataset is small.\n",
        "*   the data set should be noise free\n",
        "*   the data is properly labeled\n",
        "*   it is easy to interpret the output and the calculation time is less\n"
      ]
    },
    {
      "cell_type": "markdown",
      "metadata": {
        "id": "bxxtgRqfCob3"
      },
      "source": [
        "# 6.How does the KNN algorithm work to classify the blue star?!!\n",
        "![Capture.PNG](data:image/png;base64,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)"
      ]
    },
    {
      "cell_type": "markdown",
      "metadata": {
        "id": "GKC6mWZw5bOj"
      },
      "source": [
        "\n",
        "In the first step , the euclidean distance between the blue star and all other other data points is calculated.\n",
        "If K=1, then the closest distance to the query instance is considered, which in this case is the red circle and the blue star is assigned to class \"red circle\".\n",
        "\n",
        "If K=3, then 3 closest distances to the query instance is calculated and the blue star is assigned to that class which is closest and has majority data points."
      ]
    },
    {
      "cell_type": "markdown",
      "metadata": {
        "id": "3tkiYwYp_-3r"
      },
      "source": [
        "# 7.Assume a Boolean target function and a two dimensional instance space (shown in figure). Determine how the k-Nearest Neighbour Learning algorithm would classify the new instance xq for k= 1,3,5 and7. The + and –signs in the instance space refer to positive and negative examples respectively.![Capture.PNG](data:image/png;base64,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)"
      ]
    },
    {
      "cell_type": "markdown",
      "metadata": {
        "id": "G_TTXRL2_-sE"
      },
      "source": [
        "* When K=1:\n",
        "Only one least value of Distance from Query instance is considered- which is 1.00 which corresponds to the class \"+\" and so the query instance is grouped in this class\n",
        "\n",
        "* When K=3\n",
        "We choose 3 least distance values which are - 1.00(+), 1.35(-),1.40(-). Since there are 2 values for class(-) we set the query instance to this class.\n",
        "\n",
        "* When K= 5\n",
        "We choose 5 least distances from the query instance and it is assigned to class(-) since this class has majority data points\n",
        "\n",
        "* When K=7\n",
        "We choose 7 least distances from the query instance and it is assigned to class(-) since this class has the majority data points\n",
        "\n",
        "\n",
        "\n",
        "\n",
        "\n"
      ]
    }
  ]
}